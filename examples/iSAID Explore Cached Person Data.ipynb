{
 "cells": [
  {
   "cell_type": "markdown",
   "metadata": {},
   "source": [
    "This notebook explores the dynamic of querying a system we are calling iSAID (Integrated Science Assessment Information Database) for information about people. Functionality is built into the [pylinkedcmd](https://github.com/skybristol/pylinkedcmd) package in the Isaid class. The functions shown here work against an experimental information cache exposed via a GraphQL end point that is accessible through functions in this codebase. The database contains cached information about all USGS staff from the following locations:\n",
    "\n",
    "* ScienceBase Directory\n",
    "* USGS Pubs Warehouse\n",
    "* USGS Profile Pages\n",
    "\n",
    "Information from these sources is synthesized to generate the start to an automated research record for individual staff. The ScienceBase Directory is used as the most complete and reasonable access point for USGS staff records. Processes are run against Pubs Warehouse metadata to optimize data for analyzing co-author connections and associated organizational affiliations. Information is scraped from USGS Profile Pages into a data structure for use because there is currently no API or some type of programmatic access to those sources."
   ]
  },
  {
   "cell_type": "code",
   "execution_count": 11,
   "metadata": {},
   "outputs": [],
   "source": [
    "import pylinkedcmd\n",
    "from json2html import *\n",
    "from IPython.display import HTML\n",
    "import ipywidgets as widgets\n",
    "from ipywidgets import interact, interact_manual\n",
    "import random\n",
    "\n",
    "cmd_isaid = pylinkedcmd.pylinkedcmd.Isaid()"
   ]
  },
  {
   "cell_type": "markdown",
   "metadata": {},
   "source": [
    "I'll eventually build a better mechanism for interacting with these data. In the near term, if you want to look for personnel records from a specific organization, you can pick something from the output list of organizations and put it into the criteria. The get_people() function will actually respond to search criteria on anything in the database, so you can probably figure out how to run lots of interesting searches with just a little sleuthing."
   ]
  },
  {
   "cell_type": "code",
   "execution_count": 10,
   "metadata": {},
   "outputs": [
    {
     "data": {
      "text/plain": [
       "['Alaska Science Center',\n",
       " 'Arizona Water Science Center',\n",
       " 'Astrogeology Science Center',\n",
       " 'California Water Science Center',\n",
       " 'Caribbean-Florida Water Science Center',\n",
       " 'Central Energy Resources Science Center',\n",
       " 'Central Midwest Water Science Center',\n",
       " 'Climate Adaptation Science Centers',\n",
       " 'Coastal and Marine Hazards and Resources Program',\n",
       " 'Colorado Water Science Center',\n",
       " 'Columbia Environmental Research Center',\n",
       " 'Contaminant Biology Program',\n",
       " 'Cooperative Research Units',\n",
       " 'Core Research Center',\n",
       " 'Dakota Water Science Center',\n",
       " 'Deprecated[17464] Management Services Operations, Sacramento',\n",
       " 'Earth Resources Observation and Science (EROS) Center',\n",
       " 'Earthquake Hazards Program',\n",
       " 'Earthquake Science Center',\n",
       " 'Eastern Energy Resources Science Center',\n",
       " 'Eastern Mineral and Environmental Resources Science Center',\n",
       " 'Energy Resources Program',\n",
       " 'Federal Geographic Data Committee',\n",
       " 'Florence Bascom Geoscience Center',\n",
       " 'Forest and Rangeland Ecosystem Science Center',\n",
       " 'Fort Collins Science Center',\n",
       " 'Geographic Analysis and Monitoring Program',\n",
       " 'Geologic Hazards Science Center',\n",
       " 'Geology, Geophysics, and Geochemistry Science Center',\n",
       " 'Geology, Minerals, Energy, and Geophysics Science Center',\n",
       " 'Geosciences and Environmental Change Science Center',\n",
       " 'Great Lakes Science Center',\n",
       " 'Idaho Water Science Center',\n",
       " 'International Programs',\n",
       " 'International Programs - Water Resources',\n",
       " 'John Wesley Powell Center for Analysis and Synthesis',\n",
       " 'Kansas Water Science Center',\n",
       " 'Landslide Hazards Program',\n",
       " 'Leetown Science Center',\n",
       " 'Lower Mississippi-Gulf Water Science Center',\n",
       " 'Maryland-Delaware-D.C. Water Science Center',\n",
       " 'Mineral Resources Program',\n",
       " 'Minnesota Water Science Center',\n",
       " 'National Civil Application Center',\n",
       " 'National Cooperative Geologic Mapping Program',\n",
       " 'National Geological and Geophysical Data Preservation Program',\n",
       " 'National Geospatial Program',\n",
       " 'National Geospatial Technical Operations Center',\n",
       " 'National Ice Core Laboratory',\n",
       " 'National Minerals Information Center',\n",
       " 'National Wildlife Health Center',\n",
       " 'Nebraska Water Science Center',\n",
       " 'Nevada Water Science Center',\n",
       " 'New England Water Science Center',\n",
       " 'New Jersey Water Science Center',\n",
       " 'New Mexico Water Science Center',\n",
       " 'New York Water Science Center',\n",
       " 'Northern Prairie Wildlife Research Center',\n",
       " 'Northern Rocky Mountain Science Center',\n",
       " 'Office of Administration',\n",
       " 'Office of Land Remote Sensing',\n",
       " 'Office of Planning and Programming',\n",
       " 'Office of Science Quality and Integrity',\n",
       " 'Office of Surface Water',\n",
       " 'Office of the Alaska Regional Director',\n",
       " 'Office of the Associate Director for Core Science Systems',\n",
       " 'Office of the Associate Director for Ecosystems',\n",
       " 'Office of the Associate Director for Energy, Minerals and Environmental Health',\n",
       " 'Office of the Associate Director for Environmental Health',\n",
       " 'Office of the Associate Director for Land Resources',\n",
       " 'Office of the Associate Director for Natural Hazards',\n",
       " 'Office of the Associate Director for Water',\n",
       " 'Office of the Chief Operating Officer',\n",
       " 'Office of the Director for USGS',\n",
       " 'Office of the Midcontinent Regional Director',\n",
       " 'Office of the Northeast Regional Director',\n",
       " 'Office of the Northwest - Pacific Islands Regional Director',\n",
       " 'Office of the Rocky Mountain Regional Director',\n",
       " 'Office of the Southeast Regional Director',\n",
       " 'Office of the Southwest Regional Director',\n",
       " 'Ohio-Kentucky-Indiana Water Science Center',\n",
       " 'Oklahoma Water Science Center',\n",
       " 'Oklahoma-Texas Water Science Center',\n",
       " 'Oregon Water Science Center',\n",
       " 'Pacific Coastal and Marine Science Center',\n",
       " 'Pacific Island Ecosystems Research Center',\n",
       " 'Pacific Islands Water Science Center',\n",
       " 'Patuxent Wildlife Research Center',\n",
       " 'Pennsylvania Water Science Center',\n",
       " 'Research Drilling Program',\n",
       " 'Science Analytics and Synthesis',\n",
       " 'Science and Decisions Center',\n",
       " 'Science and Information Delivery',\n",
       " 'Shrimp',\n",
       " 'South Atlantic Water Science Center',\n",
       " 'Southwest Biological Science Center',\n",
       " 'St. Petersburg Coastal and Marine Science Center',\n",
       " 'Toxic Substances Hydrology Program',\n",
       " 'Triga Reactor',\n",
       " 'USGS Branch of Regional Research, Western Region',\n",
       " 'USGS Library',\n",
       " 'University of Connecticut',\n",
       " 'Upper Midwest Environmental Sciences Center',\n",
       " 'Upper Midwest Water Science Center',\n",
       " 'Utah Water Science Center',\n",
       " 'Virginia and West Virginia Water Science Center',\n",
       " 'Volcano Hazards Program Office',\n",
       " 'Volcano Science Center',\n",
       " 'Washington Water Science Center',\n",
       " 'Western Ecological Research Center',\n",
       " 'Western Fisheries Research Center',\n",
       " 'Western Geographic Science Center',\n",
       " 'Wetland and Aquatic Research Center',\n",
       " 'Woods Hole Coastal and Marine Science Center',\n",
       " 'Wyoming-Montana Water Science Center']"
      ]
     },
     "execution_count": 10,
     "metadata": {},
     "output_type": "execute_result"
    }
   ],
   "source": [
    "organizations = cmd_isaid.get_organizations()\n",
    "org_name_list = [i[\"organization_name\"] for i in organizations if i[\"organization_name\"] is not None]\n",
    "org_name_list.sort()\n",
    "org_name_list"
   ]
  },
  {
   "cell_type": "code",
   "execution_count": 12,
   "metadata": {},
   "outputs": [
    {
     "name": "stdout",
     "output_type": "stream",
     "text": [
      "Landslide Hazards Program\n"
     ]
    },
    {
     "data": {
      "application/vnd.jupyter.widget-view+json": {
       "model_id": "6b89e7c1b8db48e69ae8f6c289b1d4b0",
       "version_major": 2,
       "version_minor": 0
      },
      "text/plain": [
       "interactive(children=(Dropdown(description='email', options=('jgodt@usgs.gov', 'sslaughter@usgs.gov'), value='…"
      ]
     },
     "metadata": {},
     "output_type": "display_data"
    }
   ],
   "source": [
    "random_org = random.choice(org_name_list)\n",
    "print(random_org)\n",
    "\n",
    "people = cmd_isaid.get_people(criteria=random_org, parameter=\"organization_name\")\n",
    "email_list = [i[\"identifier_email\"] for i in people]\n",
    "email_list.sort()\n",
    "\n",
    "@interact\n",
    "def show_org_people(email=email_list):\n",
    "    person_doc = cmd_isaid.assemble_person_record(email)\n",
    "    display(HTML(json2html.convert(json=person_doc)))"
   ]
  },
  {
   "cell_type": "code",
   "execution_count": null,
   "metadata": {},
   "outputs": [],
   "source": []
  }
 ],
 "metadata": {
  "kernelspec": {
   "display_name": "Python 3",
   "language": "python",
   "name": "python3"
  },
  "language_info": {
   "codemirror_mode": {
    "name": "ipython",
    "version": 3
   },
   "file_extension": ".py",
   "mimetype": "text/x-python",
   "name": "python",
   "nbconvert_exporter": "python",
   "pygments_lexer": "ipython3",
   "version": "3.8.2"
  }
 },
 "nbformat": 4,
 "nbformat_minor": 4
}
