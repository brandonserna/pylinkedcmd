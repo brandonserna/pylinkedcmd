{
 "cells": [
  {
   "cell_type": "markdown",
   "metadata": {},
   "source": [
    "I decided it would be nice to have the linkage between other things we know about USGS staff and locations for their data and the staff profile URLs. Two possibilities for this are the ScienceBase Directory where we have a URL property that has not ever been populated with anything dynamically and the Wikidata records for USGS people that I've been exploring for the purpose of making these kinds of linkages. The advantage to ScienceBase is that it's our own local resource under USGS control. Disadvantages include it being difficult to work with in terms of read/write stability and it's custom, proprietary data model. Wikidata makes up for those disadvantages but is outside our direct control and does not yet include every person where we have a profile page. I may end up going both routes, but I'm starting with ScienceBase as a reasonable first step.\n",
    "\n",
    "Because of the issue of some staff seeming to have multiple profile pages and an overall assumption that they should really just have one, I first need to select the best profile page to work with. This notebook handles that process and further exercises pylinkedcmd methods. After looking at some of the \"duplicate\" profile pages, it appears that users or the system have created multiple profiles with slight variations on name, and one of these is usually not populated. It may not be completely accurate, but a reasonable assumption at this point is to pick the page with the most content. Both are \"valid\" as they are in the staff listing and both are accessible online to the public, so we can legitimately select either one as a starting point for later edit by the staff member themselves or some other maintenance process.\n",
    "\n",
    "This notebook pulls out the staff profile inventory records previously scraped, splits off those that have multiple profile URLs for one email address, scrapes each URL and gets the length of content as a variable, selects the profile with the most content, and then writes out a new set of staff profile information to use."
   ]
  },
  {
   "cell_type": "code",
   "execution_count": 1,
   "metadata": {},
   "outputs": [],
   "source": [
    "import requests\n",
    "import pickle\n",
    "import pylinkedcmd\n",
    "from joblib import Parallel, delayed\n",
    "import tqdm\n",
    "import validators"
   ]
  },
  {
   "cell_type": "code",
   "execution_count": 2,
   "metadata": {},
   "outputs": [],
   "source": [
    "sb = pylinkedcmd.pylinkedcmd.Sciencebase()\n",
    "usgs_web = pylinkedcmd.pylinkedcmd.UsgsWeb()"
   ]
  },
  {
   "cell_type": "code",
   "execution_count": 3,
   "metadata": {},
   "outputs": [],
   "source": [
    "infile = open(\"usgs_staff.pkl\", \"rb\")\n",
    "usgs_staff = pickle.load(infile)\n",
    "infile.close()"
   ]
  },
  {
   "cell_type": "code",
   "execution_count": 4,
   "metadata": {
    "scrolled": true
   },
   "outputs": [],
   "source": [
    "usgs_staff_profiles = [\n",
    "    i for i in usgs_staff \n",
    "    if len(i[\"profile\"]) == 1\n",
    "    and i[\"profile\"][0] is not None\n",
    "    and i[\"email\"][0] is not None\n",
    "]\n",
    "\n",
    "usgs_staff_profiles_multi = [\n",
    "    i for i in usgs_staff \n",
    "    if len(i[\"profile\"]) > 1\n",
    "]"
   ]
  },
  {
   "cell_type": "code",
   "execution_count": 5,
   "metadata": {},
   "outputs": [],
   "source": [
    "multi_profiles = list()\n",
    "for i in usgs_staff_profiles_multi:\n",
    "    for p in [u for u in i[\"profile\"] if u is not None]:\n",
    "        multi_profiles.append((p, i[\"identifier\"]))"
   ]
  },
  {
   "cell_type": "code",
   "execution_count": 6,
   "metadata": {},
   "outputs": [],
   "source": [
    "profile_lengths = list()\n",
    "\n",
    "def accumulator(url_id):\n",
    "    profile_lengths.append({\n",
    "        \"identifier\": url_id[1],\n",
    "        \"profile_url\": url_id[0],\n",
    "        \"profile_length\": len(str(usgs_web.scrape_profile(url_id[0])))\n",
    "    })"
   ]
  },
  {
   "cell_type": "code",
   "execution_count": 7,
   "metadata": {},
   "outputs": [
    {
     "name": "stderr",
     "output_type": "stream",
     "text": [
      "100%|██████████| 107/107 [00:09<00:00, 11.32it/s]\n"
     ]
    },
    {
     "data": {
      "text/plain": [
       "[None,\n",
       " None,\n",
       " None,\n",
       " None,\n",
       " None,\n",
       " None,\n",
       " None,\n",
       " None,\n",
       " None,\n",
       " None,\n",
       " None,\n",
       " None,\n",
       " None,\n",
       " None,\n",
       " None,\n",
       " None,\n",
       " None,\n",
       " None,\n",
       " None,\n",
       " None,\n",
       " None,\n",
       " None,\n",
       " None,\n",
       " None,\n",
       " None,\n",
       " None,\n",
       " None,\n",
       " None,\n",
       " None,\n",
       " None,\n",
       " None,\n",
       " None,\n",
       " None,\n",
       " None,\n",
       " None,\n",
       " None,\n",
       " None,\n",
       " None,\n",
       " None,\n",
       " None,\n",
       " None,\n",
       " None,\n",
       " None,\n",
       " None,\n",
       " None,\n",
       " None,\n",
       " None,\n",
       " None,\n",
       " None,\n",
       " None,\n",
       " None,\n",
       " None,\n",
       " None,\n",
       " None,\n",
       " None,\n",
       " None,\n",
       " None,\n",
       " None,\n",
       " None,\n",
       " None,\n",
       " None,\n",
       " None,\n",
       " None,\n",
       " None,\n",
       " None,\n",
       " None,\n",
       " None,\n",
       " None,\n",
       " None,\n",
       " None,\n",
       " None,\n",
       " None,\n",
       " None,\n",
       " None,\n",
       " None,\n",
       " None,\n",
       " None,\n",
       " None,\n",
       " None,\n",
       " None,\n",
       " None,\n",
       " None,\n",
       " None,\n",
       " None,\n",
       " None,\n",
       " None,\n",
       " None,\n",
       " None,\n",
       " None,\n",
       " None,\n",
       " None,\n",
       " None,\n",
       " None,\n",
       " None,\n",
       " None,\n",
       " None,\n",
       " None,\n",
       " None,\n",
       " None,\n",
       " None,\n",
       " None,\n",
       " None,\n",
       " None,\n",
       " None,\n",
       " None,\n",
       " None,\n",
       " None]"
      ]
     },
     "execution_count": 7,
     "metadata": {},
     "output_type": "execute_result"
    }
   ],
   "source": [
    "Parallel(n_jobs=20, prefer=\"threads\")(\n",
    "    delayed(accumulator)\n",
    "    (\n",
    "        i\n",
    "    ) for i in tqdm.tqdm(multi_profiles)\n",
    ")"
   ]
  },
  {
   "cell_type": "code",
   "execution_count": 8,
   "metadata": {},
   "outputs": [],
   "source": [
    "selected_profiles = list()\n",
    "for item in usgs_staff_profiles_multi:\n",
    "    max_profile_length = max([x[\"profile_length\"] for x in profile_lengths if x[\"identifier\"] == item[\"identifier\"]])\n",
    "    item[\"profile\"] = [\n",
    "        next(\n",
    "            (i[\"profile_url\"] for i in profile_lengths if i[\"profile_length\"] == max_profile_length), \n",
    "            None\n",
    "        )\n",
    "    ]\n",
    "    selected_profiles.append(item)\n",
    "\n",
    "usgs_staff_profiles.extend(selected_profiles)"
   ]
  },
  {
   "cell_type": "code",
   "execution_count": 9,
   "metadata": {},
   "outputs": [
    {
     "name": "stdout",
     "output_type": "stream",
     "text": [
      "None\n",
      "None\n"
     ]
    }
   ],
   "source": [
    "print(next((e for e in [validators.email(i[\"email\"][0]) for i in usgs_staff_profiles] if False), None))\n",
    "print(next((u for u in [validators.url(i[\"profile\"][0]) for i in usgs_staff_profiles] if False), None))"
   ]
  },
  {
   "cell_type": "code",
   "execution_count": 10,
   "metadata": {},
   "outputs": [],
   "source": [
    "outfile = open(\"usgs_staff_profiles.pkl\", \"wb\")\n",
    "pickle.dump(usgs_staff_profiles, outfile)\n",
    "outfile.close()"
   ]
  },
  {
   "cell_type": "code",
   "execution_count": null,
   "metadata": {},
   "outputs": [],
   "source": []
  }
 ],
 "metadata": {
  "kernelspec": {
   "display_name": "Python 3",
   "language": "python",
   "name": "python3"
  },
  "language_info": {
   "codemirror_mode": {
    "name": "ipython",
    "version": 3
   },
   "file_extension": ".py",
   "mimetype": "text/x-python",
   "name": "python",
   "nbconvert_exporter": "python",
   "pygments_lexer": "ipython3",
   "version": "3.8.2"
  }
 },
 "nbformat": 4,
 "nbformat_minor": 4
}
