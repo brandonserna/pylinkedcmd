{
 "cells": [
  {
   "cell_type": "markdown",
   "metadata": {},
   "source": [
    "Unfortunately, there is also no way of programmatically getting at the information that USGS staff have put together for their profile pages, so I had to come up with a scraper for that information. I put this into a single function that operates against a given staff profile URL and am currently limiting the work to anything that we can't get from other sources. The interesting bits include a set of keywords, drawn from the USGS Thesaurus, that represent self-assertions of expertise. The other main section that an individual can control themselves is a big body of HTML. We might be able to work through this content with further processing, but for now, I shove that into a string and extract all of the links from it in a list. The links often include publications that are not otherwise part of the listing coming from official channels, which can be a very useful addendum to a research record.\n",
    "\n",
    "The following code sequence grabs up our previously built inventory and runs an example to show what is returned by the scrape_profile() function."
   ]
  },
  {
   "cell_type": "code",
   "execution_count": 1,
   "metadata": {},
   "outputs": [],
   "source": [
    "import pylinkedcmd\n",
    "import pickle\n",
    "\n",
    "usgs_web = pylinkedcmd.pylinkedcmd.UsgsWeb()"
   ]
  },
  {
   "cell_type": "code",
   "execution_count": 2,
   "metadata": {},
   "outputs": [],
   "source": [
    "infile = open(\"usgs_staff.pkl\", \"rb\")\n",
    "usgs_staff = pickle.load(infile)\n",
    "infile.close()"
   ]
  },
  {
   "cell_type": "code",
   "execution_count": 3,
   "metadata": {},
   "outputs": [
    {
     "data": {
      "text/plain": [
       "{'name': 'Kate E Allstadt, Ph.D.',\n",
       " 'profile': 'https://usgs.gov/staff-profiles/kate-e-allstadt',\n",
       " 'email': 'kallstadt@usgs.gov'}"
      ]
     },
     "execution_count": 3,
     "metadata": {},
     "output_type": "execute_result"
    }
   ],
   "source": [
    "usgs_staff[99]"
   ]
  },
  {
   "cell_type": "code",
   "execution_count": 4,
   "metadata": {},
   "outputs": [
    {
     "data": {
      "text/plain": [
       "{'profile': 'https://usgs.gov/staff-profiles/kate-e-allstadt',\n",
       " 'expertise': ['earthquakes',\n",
       "  'hazards',\n",
       "  'lahars',\n",
       "  'landslides',\n",
       "  'liquefaction'],\n",
       " 'scraped_body_html': '<div class=\"usgs-body\">\\n<h2 class=\"h3\">Biography</h2><div class=\"tex2jax\"><p>I joined the team at the USGS Geologic Hazards Science Center in Golden, CO in June 2015 and split my time between the Landslide Hazards Program and the Earthquake Hazards Program. I focus on multidisciplinary applications of seismic and geophysical techniques to landslide and earthquake hazards. I work on a variety of topics including seismically-induced landslide and liquefaction, near-real-time earthquake products, and seismic monitoring and geophysical investigations of landslides and debris flows.</p>\\n<p>As a postdoc at the Cascades Volcano Observatory, I cofounded\\xa0the ongoing <a href=\"http://www.mshslc.org/volcanic-explorations/youth-programs/geogirls/\">GeoGirls at Mount St. Helens</a> field camp designed to keep middle school girls interested in science through hands-on field experiences and interactions with strong science role models. I continue to stay involved with the program.</p>\\n<p><strong><strong><span>Research Interests</span></strong></strong></p>\\n<p>Multidisciplinary Applications of Seismology, Hazard and Disaster mitigation, Seismically Induced Landslides, Landslide Seismology, Earthquake and Volcano monitoring, Real-time products, Engineering seismology and Site Effects</p>\\n<p><strong><span>Education</span></strong></p>\\n<p><span>2009 – 2013\\xa0\\xa0\\xa0\\xa0\\xa0\\xa0\\xa0\\xa0\\xa0\\xa0\\xa0\\xa0\\xa0\\xa0\\xa0\\xa0University of Washington, PhD, Seismology/Geophysics</span></p>\\n<p><span>2008 – 2009\\xa0\\xa0\\xa0\\xa0\\xa0\\xa0\\xa0\\xa0\\xa0\\xa0\\xa0\\xa0\\xa0\\xa0\\xa0\\xa0Université Joseph Fourier, Grenoble, France and ROSE School, Pavia, Italy, M.S., Engineering Seismology</span></p>\\n<p><span>2003 - 2008\\xa0\\xa0\\xa0\\xa0\\xa0\\xa0\\xa0\\xa0\\xa0\\xa0\\xa0\\xa0\\xa0\\xa0\\xa0\\xa0\\xa0\\xa0\\xa0Northeastern University, B.S., Environmental Geology</span></p>\\n<p><strong><span>Research and Professional Experience</span></strong></p>\\n<p><span>2015 – present\\xa0\\xa0\\xa0\\xa0\\xa0\\xa0\\xa0\\xa0\\xa0\\xa0\\xa0\\xa0Research Geophysicst, USGS Geologic Hazards Science Center, Golden CO</span></p>\\n<p><span>2014 – 2015\\xa0\\xa0\\xa0\\xa0\\xa0\\xa0\\xa0\\xa0\\xa0\\xa0\\xa0\\xa0\\xa0\\xa0\\xa0\\xa0National Science Foundation Postdoctoral Fellow at USGS Cascades Volcano Observatory: Toward early detection and tracking of mass movements at volcanoes using seismic methods.</span></p>\\n<p><span>2013 – 2014\\xa0\\xa0\\xa0\\xa0\\xa0\\xa0\\xa0\\xa0\\xa0\\xa0\\xa0\\xa0\\xa0\\xa0\\xa0\\xa0Postdoctoral Researcher, University of Washington: M9 Cascadia megaquakes: reducing risk through science, engineering, and planning.</span></p>\\n<p><span>2009 – 2013\\xa0\\xa0\\xa0\\xa0\\xa0\\xa0\\xa0\\xa0\\xa0\\xa0\\xa0\\xa0\\xa0\\xa0\\xa0\\xa0Duty Seismologist for Pacific Northwest Seismic Network and Research Assistant &amp; Teaching Assistant, University of Washington</span></p>\\n<p>\\xa0</p></div> </div>',\n",
       " 'body_content_links': [{'link_text': 'GeoGirls at Mount St. Helens',\n",
       "   'link_href': 'http://www.mshslc.org/volcanic-explorations/youth-programs/geogirls/'}]}"
      ]
     },
     "execution_count": 4,
     "metadata": {},
     "output_type": "execute_result"
    }
   ],
   "source": [
    "usgs_web.scrape_profile(usgs_staff[99][\"profile\"])"
   ]
  },
  {
   "cell_type": "code",
   "execution_count": null,
   "metadata": {},
   "outputs": [],
   "source": []
  }
 ],
 "metadata": {
  "kernelspec": {
   "display_name": "Python 3",
   "language": "python",
   "name": "python3"
  },
  "language_info": {
   "codemirror_mode": {
    "name": "ipython",
    "version": 3
   },
   "file_extension": ".py",
   "mimetype": "text/x-python",
   "name": "python",
   "nbconvert_exporter": "python",
   "pygments_lexer": "ipython3",
   "version": "3.8.2"
  }
 },
 "nbformat": 4,
 "nbformat_minor": 4
}
