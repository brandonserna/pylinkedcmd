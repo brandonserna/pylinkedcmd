{
 "cells": [
  {
   "cell_type": "code",
   "execution_count": 3,
   "metadata": {},
   "outputs": [],
   "source": [
    "import pickle\n",
    "from copy import copy\n",
    "from pylinkedcmd import orcid, pylinkedcmd\n",
    "from joblib import Parallel, delayed\n",
    "import tqdm\n",
    "import os\n"
   ]
  },
  {
   "cell_type": "markdown",
   "metadata": {},
   "source": [
    "In the iSAID - Staff Profile Accumulator notebook, we started from our online set of USGS Profile Pages and scraped those to generate our basic data structure of entities and claims. For demonstration purposes here, we dropped that into a file of unique_profiles that essentially mimics what we'll see in our master indexes when we move this online. We can start from that file here to tee up and run processing to gather additional information based on ORCID identifiers."
   ]
  },
  {
   "cell_type": "code",
   "execution_count": 2,
   "metadata": {},
   "outputs": [],
   "source": [
    "profile_data = pickle.load(open(\"unique_profiles.p\", \"rb\"))"
   ]
  },
  {
   "cell_type": "markdown",
   "metadata": {},
   "source": [
    "The lovely thing about ORCIDs is that all we really need to trigger action is the identifier string itself. From that point, we can run through everything we need to do. ORCIDs could show up in our system through a variety of means and from different inbound vectors, and so it would be helpful to set up an API Gateway entry point that does something really simple like take the string input and tees up a message on a queue for operation. To help with both ORCID and DOI identifiers, I put a function in the pylinkedcmd.pylinkedcmd module to check for an actionable_id. This runs simple regex checks for ORCID or DOI identifiers and returns a dictionary with both the identifier form of the ID as well as it's fully qualified http resolver path (returning None if the identifier can't be validated)."
   ]
  },
  {
   "cell_type": "code",
   "execution_count": 4,
   "metadata": {},
   "outputs": [
    {
     "data": {
      "text/plain": [
       "{'orcid': '0000-0003-1682-4031',\n",
       " 'url': 'https://orcid.org/0000-0003-1682-4031'}"
      ]
     },
     "execution_count": 4,
     "metadata": {},
     "output_type": "execute_result"
    }
   ],
   "source": [
    "pylinkedcmd.actionable_id(\"0000-0003-1682-4031\")"
   ]
  },
  {
   "cell_type": "markdown",
   "metadata": {},
   "source": [
    "Here, I simply pull out our list of ORCID identifiers to iterate through in a parallel processing loop."
   ]
  },
  {
   "cell_type": "code",
   "execution_count": 5,
   "metadata": {},
   "outputs": [],
   "source": [
    "orcid_list = [i[\"entity\"][\"identifiers\"][\"orcid\"] for i in profile_data if \"orcid\" in i[\"entity\"][\"identifiers\"]]"
   ]
  },
  {
   "cell_type": "markdown",
   "metadata": {},
   "source": [
    "All of the logic needed to gather information from ORCIDs is emboddied in the Lookup class of the pylinkedcmd.orcid module. There are a number of parameters that can be used for this."
   ]
  },
  {
   "cell_type": "code",
   "execution_count": 8,
   "metadata": {},
   "outputs": [],
   "source": [
    "if os.path.exists('orcid_data.p'):\n",
    "    orcid_data = pickle.load(open(\"orcid_data.p\", \"rb\"))\n",
    "else:\n",
    "    orcid_data = list()\n",
    "    \n",
    "if os.path.exists('orcid_errors.p'):\n",
    "    orcid_errors = pickle.load(open(\"orcid_errors.p\", \"rb\"))\n",
    "else:\n",
    "    orcid_errors = list()\n",
    "\n",
    "def accumulator(orcid_value):\n",
    "    orcid_record = orcid.Lookup(orcid_value, return_errors=True).document()\n",
    "    if \"error\" in orcid_record:\n",
    "        orcid_errors.append(orcid_record)\n",
    "    else:\n",
    "        orcid_data.append(orcid_record)\n"
   ]
  },
  {
   "cell_type": "code",
   "execution_count": 7,
   "metadata": {},
   "outputs": [
    {
     "name": "stderr",
     "output_type": "stream",
     "text": [
      "100%|██████████| 2040/2040 [01:51<00:00, 18.31it/s]\n"
     ]
    }
   ],
   "source": [
    "try:\n",
    "    Parallel(n_jobs=20, prefer=\"threads\")(\n",
    "        delayed(accumulator)\n",
    "        (\n",
    "            i\n",
    "        ) for i in tqdm.tqdm(orcid_list)\n",
    "    )\n",
    "except Exception as e:\n",
    "    pickle.dump(orcid_data, open(\"orcid_data.p\", \"wb\"))\n",
    "    pickle.dump(orcid_errors, open(\"orcid_errors.p\", \"wb\"))\n",
    "    print(e)\n",
    "    \n",
    "pickle.dump(orcid_data, open(\"orcid_data.p\", \"wb\"))\n",
    "pickle.dump(orcid_errors, open(\"orcid_errors.p\", \"wb\"))\n"
   ]
  },
  {
   "cell_type": "markdown",
   "metadata": {},
   "source": [
    "Using return_errors will tell us when something goes wrong and put those somewhere for later action. Most of these are incorrect ORCIDs that would require some work on underlying records. We may want to put these somewhere in our index so that we can expose them as necessary corrections or use them to filter our ORCID identifiers coming from other sources that we've shown to be invalid."
   ]
  },
  {
   "cell_type": "code",
   "execution_count": 9,
   "metadata": {},
   "outputs": [
    {
     "data": {
      "text/plain": [
       "[{'orcid': '0000-0001-9942-8602',\n",
       "  'error': requests.exceptions.ConnectionError(urllib3.exceptions.MaxRetryError('None: Max retries exceeded with url: /v3.0/0000-0001-9942-8602 (Caused by None)'))},\n",
       " {'orcid': '0000-0000-9485-3332', 'error': 'HTTP Status Code: 404'},\n",
       " {'orcid': '0000-0002-8816-5920',\n",
       "  'error': requests.exceptions.ConnectionError(urllib3.exceptions.MaxRetryError('None: Max retries exceeded with url: /v3.0/0000-0002-8816-5920 (Caused by None)'))},\n",
       " {'orcid': '0000-0002-3239-6909', 'error': 'HTTP Status Code: 404'},\n",
       " {'orcid': '0000-0002-1398-0894', 'error': 'HTTP Status Code: 404'}]"
      ]
     },
     "execution_count": 9,
     "metadata": {},
     "output_type": "execute_result"
    }
   ],
   "source": [
    "orcid_errors"
   ]
  },
  {
   "cell_type": "markdown",
   "metadata": {},
   "source": [
    "The end result of ORCID processing also aligns with our entity/claims model. Claims here may or may not be unique to this source, as we also process publication records from the USGS Publications Warehouse, where pubs are one of the major clues we pick up from ORCID records. We will also be teeing up publication entities from this process based on DOIs as object identifiers developed from ORCID records, so we will be able to verify whether or not we know about an entity already over time. At this stage, we can probably throw all claims from this process into the index and sort things out further in the future.\n",
    "\n",
    "Entity information here should already exist but may be slightly better coming from the ORCID source. In the immediate term, we can focus solely on contributing claims."
   ]
  },
  {
   "cell_type": "code",
   "execution_count": 10,
   "metadata": {},
   "outputs": [
    {
     "name": "stdout",
     "output_type": "stream",
     "text": [
      "2035\n"
     ]
    },
    {
     "data": {
      "text/plain": [
       "[{'entity': {'identifiers': {'orcid': '0000-0003-0274-5180',\n",
       "    'url': 'https://orcid.org/0000-0003-0274-5180'},\n",
       "   'instance_of': 'Person',\n",
       "   'entity_created': '2020-11-20T17:29:12.865460',\n",
       "   'entity_source': 'ORCID',\n",
       "   'reference': 'https://orcid.org/0000-0003-0274-5180',\n",
       "   'name': 'Sean Ahdi',\n",
       "   'alternateName': None,\n",
       "   'url': None},\n",
       "  'claims': []},\n",
       " {'entity': {'identifiers': {'orcid': '0000-0003-2988-9993',\n",
       "    'url': 'https://orcid.org/0000-0003-2988-9993'},\n",
       "   'instance_of': 'Person',\n",
       "   'entity_created': '2020-11-20T17:29:12.870513',\n",
       "   'entity_source': 'ORCID',\n",
       "   'reference': 'https://orcid.org/0000-0003-2988-9993',\n",
       "   'name': 'Phyllis Altheide',\n",
       "   'alternateName': None,\n",
       "   'url': None},\n",
       "  'claims': [{'claim_created': '2020-11-20T17:29:14.167347',\n",
       "    'claim_source': 'ORCID',\n",
       "    'reference': 'https://orcid.org/0000-0003-2988-9993',\n",
       "    'subject_instance_of': 'Person',\n",
       "    'subject_label': 'Phyllis Altheide',\n",
       "    'subject_identifiers': {'orcid': '0000-0003-2988-9993'},\n",
       "    'object_identifiers': None,\n",
       "    'object_instance_of': 'Organization',\n",
       "    'object_label': 'US Geological Survey',\n",
       "    'property_label': 'organization affiliation'}]},\n",
       " {'entity': {'identifiers': {'orcid': '0000-0002-5538-5687',\n",
       "    'url': 'https://orcid.org/0000-0002-5538-5687'},\n",
       "   'instance_of': 'Person',\n",
       "   'entity_created': '2020-11-20T17:29:12.870334',\n",
       "   'entity_source': 'ORCID',\n",
       "   'reference': 'https://orcid.org/0000-0002-5538-5687',\n",
       "   'name': 'Yen-Ju Beal',\n",
       "   'alternateName': 'Grace Beal',\n",
       "   'url': None},\n",
       "  'claims': [{'claim_created': '2020-11-20T17:29:14.181632',\n",
       "    'claim_source': 'ORCID',\n",
       "    'reference': 'https://orcid.org/0000-0002-5538-5687',\n",
       "    'subject_instance_of': 'Person',\n",
       "    'subject_label': 'Yen-Ju Beal',\n",
       "    'subject_identifiers': {'orcid': '0000-0002-5538-5687'},\n",
       "    'object_identifiers': {'doi': '10.1016/j.rse.2017.06.027',\n",
       "     'url': 'https://doi.org/10.1016/J.RSE.2017.06.027'},\n",
       "    'object_instance_of': 'CreativeWork',\n",
       "    'object_label': 'Mapping burned areas using dense time-series of Landsat data',\n",
       "    'property_label': 'author of'},\n",
       "   {'claim_created': '2020-11-20T17:29:14.181632',\n",
       "    'claim_source': 'ORCID',\n",
       "    'reference': 'https://orcid.org/0000-0002-5538-5687',\n",
       "    'subject_instance_of': 'Person',\n",
       "    'subject_label': 'Yen-Ju Beal',\n",
       "    'subject_identifiers': {'orcid': '0000-0002-5538-5687'},\n",
       "    'object_identifiers': {'doi': '10.3390/rs9070743',\n",
       "     'url': 'https://doi.org/10.3390/RS9070743'},\n",
       "    'object_instance_of': 'CreativeWork',\n",
       "    'object_label': 'Evaluation of the U.S. Geological Survey Landsat Burned Area Essential Climate Variable across the Conterminous U.S. Using Commercial High-Resolution Imagery',\n",
       "    'property_label': 'author of'}]},\n",
       " {'entity': {'identifiers': {'orcid': '0000-0003-1024-0975',\n",
       "    'url': 'https://orcid.org/0000-0003-1024-0975'},\n",
       "   'instance_of': 'Person',\n",
       "   'entity_created': '2020-11-20T17:29:12.866807',\n",
       "   'entity_source': 'ORCID',\n",
       "   'reference': 'https://orcid.org/0000-0003-1024-0975',\n",
       "   'name': 'Elizabeth Abraham',\n",
       "   'alternateName': None,\n",
       "   'url': None},\n",
       "  'claims': [{'claim_created': '2020-11-20T17:29:14.183537',\n",
       "    'claim_source': 'ORCID',\n",
       "    'reference': 'https://orcid.org/0000-0003-1024-0975',\n",
       "    'subject_instance_of': 'Person',\n",
       "    'subject_label': 'Elizabeth Abraham',\n",
       "    'subject_identifiers': {'orcid': '0000-0003-1024-0975'},\n",
       "    'object_identifiers': None,\n",
       "    'object_instance_of': 'Organization',\n",
       "    'object_label': 'US Geological Survey',\n",
       "    'property_label': 'organization affiliation'},\n",
       "   {'claim_created': '2020-11-20T17:29:14.183537',\n",
       "    'claim_source': 'ORCID',\n",
       "    'reference': 'https://orcid.org/0000-0003-1024-0975',\n",
       "    'subject_instance_of': 'Person',\n",
       "    'subject_label': 'Elizabeth Abraham',\n",
       "    'subject_identifiers': {'orcid': '0000-0003-1024-0975'},\n",
       "    'object_identifiers': None,\n",
       "    'object_instance_of': 'Organization',\n",
       "    'object_label': 'American Ornithological Society',\n",
       "    'property_label': 'organization affiliation'},\n",
       "   {'claim_created': '2020-11-20T17:29:14.183537',\n",
       "    'claim_source': 'ORCID',\n",
       "    'reference': 'https://orcid.org/0000-0003-1024-0975',\n",
       "    'subject_instance_of': 'Person',\n",
       "    'subject_label': 'Elizabeth Abraham',\n",
       "    'subject_identifiers': {'orcid': '0000-0003-1024-0975'},\n",
       "    'object_identifiers': None,\n",
       "    'object_instance_of': 'Organization',\n",
       "    'object_label': 'Youngstown State University, Geological and Environmental Sciences',\n",
       "    'property_label': 'educational affiliation'},\n",
       "   {'claim_created': '2020-11-20T17:29:14.183537',\n",
       "    'claim_source': 'ORCID',\n",
       "    'reference': 'https://orcid.org/0000-0003-1024-0975',\n",
       "    'subject_instance_of': 'Person',\n",
       "    'subject_label': 'Elizabeth Abraham',\n",
       "    'subject_identifiers': {'orcid': '0000-0003-1024-0975'},\n",
       "    'object_identifiers': None,\n",
       "    'object_instance_of': 'Organization',\n",
       "    'object_label': 'University of Delaware, Entomology and Wildlife Ecology',\n",
       "    'property_label': 'educational affiliation'}]},\n",
       " {'entity': {'identifiers': {'orcid': '0000-0002-4156-5759',\n",
       "    'url': 'https://orcid.org/0000-0002-4156-5759'},\n",
       "   'instance_of': 'Person',\n",
       "   'entity_created': '2020-11-20T17:29:12.867845',\n",
       "   'entity_source': 'ORCID',\n",
       "   'reference': 'https://orcid.org/0000-0002-4156-5759',\n",
       "   'name': 'Mark Bauer',\n",
       "   'alternateName': None,\n",
       "   'url': None},\n",
       "  'claims': [{'claim_created': '2020-11-20T17:29:14.231166',\n",
       "    'claim_source': 'ORCID',\n",
       "    'reference': 'https://orcid.org/0000-0002-4156-5759',\n",
       "    'subject_instance_of': 'Person',\n",
       "    'subject_label': 'Mark Bauer',\n",
       "    'subject_identifiers': {'orcid': '0000-0002-4156-5759'},\n",
       "    'object_identifiers': {'doi': '10.5066/p9r00mwf',\n",
       "     'url': 'https://doi.org/10.5066/P9R00MWF'},\n",
       "    'object_instance_of': 'CreativeWork',\n",
       "    'object_label': 'Topographic and Sediment Size Data from Fountain Creek between Colorado Springs and the Confluence with the Arkansas River, Colorado, 2019',\n",
       "    'property_label': 'author of'},\n",
       "   {'claim_created': '2020-11-20T17:29:14.231166',\n",
       "    'claim_source': 'ORCID',\n",
       "    'reference': 'https://orcid.org/0000-0002-4156-5759',\n",
       "    'subject_instance_of': 'Person',\n",
       "    'subject_label': 'Mark Bauer',\n",
       "    'subject_identifiers': {'orcid': '0000-0002-4156-5759'},\n",
       "    'object_identifiers': None,\n",
       "    'object_instance_of': 'CreativeWork',\n",
       "    'object_label': 'Emergency Assessment of Debris-Flow Hazards from Basins Burned by the 2007 Santiago Fire, Orange County, Southern California',\n",
       "    'property_label': 'author of'},\n",
       "   {'claim_created': '2020-11-20T17:29:14.231166',\n",
       "    'claim_source': 'ORCID',\n",
       "    'reference': 'https://orcid.org/0000-0002-4156-5759',\n",
       "    'subject_instance_of': 'Person',\n",
       "    'subject_label': 'Mark Bauer',\n",
       "    'subject_identifiers': {'orcid': '0000-0002-4156-5759'},\n",
       "    'object_identifiers': {'doi': '10.13039/100000201',\n",
       "     'url': 'https://doi.org/10.13039/100000201'},\n",
       "    'object_instance_of': 'Organization',\n",
       "    'object_label': 'U.S. Department of the Interior',\n",
       "    'property_label': 'organization affiliation'}]}]"
      ]
     },
     "metadata": {},
     "output_type": "display_data"
    }
   ],
   "source": [
    "print(len(orcid_data))\n",
    "display(orcid_data[:5])"
   ]
  },
  {
   "cell_type": "code",
   "execution_count": null,
   "metadata": {},
   "outputs": [],
   "source": []
  }
 ],
 "metadata": {
  "kernelspec": {
   "display_name": "Python 3",
   "language": "python",
   "name": "python3"
  },
  "language_info": {
   "codemirror_mode": {
    "name": "ipython",
    "version": 3
   },
   "file_extension": ".py",
   "mimetype": "text/x-python",
   "name": "python",
   "nbconvert_exporter": "python",
   "pygments_lexer": "ipython3",
   "version": "3.8.2"
  }
 },
 "nbformat": 4,
 "nbformat_minor": 4
}
