{
 "cells": [
  {
   "cell_type": "markdown",
   "metadata": {},
   "source": [
    "One of the use cases we are exploring through this code project is how we can use WikiData to help augment a process for auto-assembling research records for USGS staff. After writing a series of functions for interacting with both the ScienceBase Directory as our starting point, working out linkages to WikiData IDs, and a set of functions for working with WikiData, we can start exploring what routes to useful information WikiData records linked to USGS person records might produce. This notebook works through the necessary functions and provides a comprehensive look at the individual properties of USGS people in WikiData. These properties are considered statements or claims about a person and include identifiers for crossreference to other systems that may also be useful."
   ]
  },
  {
   "cell_type": "code",
   "execution_count": 1,
   "metadata": {},
   "outputs": [],
   "source": [
    "import pylinkedcmd\n",
    "from IPython.display import display\n",
    "import time\n",
    "\n",
    "sb = pylinkedcmd.pylinkedcmd.Sciencebase()\n",
    "wd = pylinkedcmd.pylinkedcmd.Wikidata()"
   ]
  },
  {
   "cell_type": "markdown",
   "metadata": {},
   "source": [
    "First, we need to get relevant person records from the USGS ScienceBase Directory as our starting point. The SB Directory contains a record of everyone who currently works for the USGS or who has worked for the USGS in the years since it was established (~2010). It also contains records for collaborators from other organizations and institutions who have been involved in USGS work and obtained an account with us at some point. It's not a perfect resource, but it represents the best publicly available source of structured information on USGS staff that is reasonably comprehensive. The sb_people function is pretty specialized for our use cases here as it filters to just people with a WikiData ID and simplifies the output to just a select number of fields that we care about for this exercise. The function takes a little bit of time to run through, so we time it for reference."
   ]
  },
  {
   "cell_type": "code",
   "execution_count": 3,
   "metadata": {},
   "outputs": [
    {
     "name": "stdout",
     "output_type": "stream",
     "text": [
      "2158\n"
     ]
    },
    {
     "data": {
      "text/plain": [
       "{'uri': 'https://www.sciencebase.gov/directory/person/69061',\n",
       " 'displayName': 'Courtney A Creamer',\n",
       " 'email': 'ccreamer@usgs.gov',\n",
       " 'identifiers': [{'id': 2232, 'key': '0000-0001-8270-9387', 'type': 'ORCID'},\n",
       "  {'id': 2233, 'key': 'Q57408270', 'type': 'WikiData'}]}"
      ]
     },
     "metadata": {},
     "output_type": "display_data"
    },
    {
     "name": "stdout",
     "output_type": "stream",
     "text": [
      "CPU times: user 212 ms, sys: 72.1 ms, total: 284 ms\n",
      "Wall time: 10.5 s\n"
     ]
    }
   ],
   "source": [
    "%%time\n",
    "people = sb.sb_people(fields=\"simple\")\n",
    "print(len(people))\n",
    "display(people[99])"
   ]
  },
  {
   "cell_type": "markdown",
   "metadata": {},
   "source": [
    "Because we are going to want to come back and reference the SB record in a minute when it comes to exploring individual properties on people, this helper function retrieves the URL that will let us get back into the ScienceBase Directory to see who we are talking about."
   ]
  },
  {
   "cell_type": "code",
   "execution_count": 6,
   "metadata": {},
   "outputs": [],
   "source": [
    "def sb_person_link_by_wd_id(people, wd_id):\n",
    "    sb_link = next(\n",
    "        (\n",
    "            p[\"uri\"] for p in people if next(\n",
    "                (i for i in p[\"identifiers\"] if i[\"key\"] == wd_id), None) \n",
    "            is not None), \n",
    "        None)\n",
    "    \n",
    "    return sb_link"
   ]
  },
  {
   "cell_type": "markdown",
   "metadata": {},
   "source": [
    "One of the functions we built into the WikiData class in this package will retrieve a given WikiData Item (\"Q\" identifier) and run some lookups to build out a reasonable document representation of the full record in WikiData. It runs through the statements/claims on a person and resolves property identifiers to provide a human-readable view of the properties of an item. The following codeblock demonstrates this for a slice of our list of USGS people with WikiData IDs. Each of the calles to wd_item() do take a little bit of time with this method based on resolving the properties.\n",
    "\n",
    "Note: There are likely better ways of handling this function fully with SPARQL that we'll figure out eventually."
   ]
  },
  {
   "cell_type": "code",
   "execution_count": 7,
   "metadata": {},
   "outputs": [
    {
     "data": {
      "text/plain": [
       "{'uri': 'https://www.wikidata.org/wiki/Special:EntityData/Q57414377.json',\n",
       " 'lastrevid': 1202763177,\n",
       " 'modified': '2020-06-09T06:30:58Z',\n",
       " 'label_en': 'Muruleedhara N Byappanahalli',\n",
       " 'description_en': 'researcher ORCID id 0000-0001-5376-597X',\n",
       " 'statements': [{'uri': 'https://www.wikidata.org/wiki/Special:EntityData/P496.json',\n",
       "   'title': 'Property:P496',\n",
       "   'id': 'P496',\n",
       "   'label_en': 'ORCID iD',\n",
       "   'description_en': 'identifier for a person',\n",
       "   'formatter_url': 'https://orcid.org/$1',\n",
       "   'url': 'https://orcid.org/0000-0001-5376-597X',\n",
       "   'value': '0000-0001-5376-597X'},\n",
       "  {'uri': 'https://www.wikidata.org/wiki/Special:EntityData/P31.json',\n",
       "   'title': 'Property:P31',\n",
       "   'id': 'P31',\n",
       "   'label_en': 'instance of',\n",
       "   'description_en': 'that class of which this subject is a particular example and member',\n",
       "   'formatter_url': None,\n",
       "   'url': 'https://www.wikidata.org/wiki/Special:EntityData/Q5',\n",
       "   'value': 'human'},\n",
       "  {'uri': 'https://www.wikidata.org/wiki/Special:EntityData/P1153.json',\n",
       "   'title': 'Property:P1153',\n",
       "   'id': 'P1153',\n",
       "   'label_en': 'Scopus Author ID',\n",
       "   'description_en': 'identifier for an author assigned in Scopus bibliographic database',\n",
       "   'formatter_url': 'https://www.scopus.com/authid/detail.uri?authorId=$1',\n",
       "   'url': 'https://www.scopus.com/authid/detail.uri?authorId=6602901110',\n",
       "   'value': '6602901110'},\n",
       "  {'uri': 'https://www.wikidata.org/wiki/Special:EntityData/P106.json',\n",
       "   'title': 'Property:P106',\n",
       "   'id': 'P106',\n",
       "   'label_en': 'occupation',\n",
       "   'description_en': 'occupation of a person; see also \"field of work\" (Property:P101), \"position held\" (Property:P39)',\n",
       "   'formatter_url': None,\n",
       "   'url': 'https://www.wikidata.org/wiki/Special:EntityData/Q1650915',\n",
       "   'value': 'researcher'}]}"
      ]
     },
     "metadata": {},
     "output_type": "display_data"
    },
    {
     "data": {
      "text/plain": [
       "{'uri': 'https://www.wikidata.org/wiki/Special:EntityData/Q20675641.json',\n",
       " 'lastrevid': 1191864531,\n",
       " 'modified': '2020-05-27T21:58:07Z',\n",
       " 'label_en': 'Mark Petersen',\n",
       " 'description_en': 'seismologist',\n",
       " 'aliases': ['Mark D. Petersen',\n",
       "  'Mark Petersen',\n",
       "  'Mark D Petersen',\n",
       "  'M. D. Petersen',\n",
       "  'M.D. Petersen'],\n",
       " 'statements': [{'uri': 'https://www.wikidata.org/wiki/Special:EntityData/P31.json',\n",
       "   'title': 'Property:P31',\n",
       "   'id': 'P31',\n",
       "   'label_en': 'instance of',\n",
       "   'description_en': 'that class of which this subject is a particular example and member',\n",
       "   'formatter_url': None,\n",
       "   'url': 'https://www.wikidata.org/wiki/Special:EntityData/Q5',\n",
       "   'value': 'human'},\n",
       "  {'uri': 'https://www.wikidata.org/wiki/Special:EntityData/P27.json',\n",
       "   'title': 'Property:P27',\n",
       "   'id': 'P27',\n",
       "   'label_en': 'country of citizenship',\n",
       "   'description_en': 'the object is a country that recognizes the subject as its citizen',\n",
       "   'formatter_url': None,\n",
       "   'url': 'https://www.wikidata.org/wiki/Special:EntityData/Q30',\n",
       "   'value': 'United States of America'},\n",
       "  {'uri': 'https://www.wikidata.org/wiki/Special:EntityData/P735.json',\n",
       "   'title': 'Property:P735',\n",
       "   'id': 'P735',\n",
       "   'label_en': 'given name',\n",
       "   'description_en': \"first name or another given name of this person; values used with the property shouldn't link disambiguations nor family names.\",\n",
       "   'formatter_url': None,\n",
       "   'url': 'https://www.wikidata.org/wiki/Special:EntityData/Q13610143',\n",
       "   'value': 'Mark'},\n",
       "  {'uri': 'https://www.wikidata.org/wiki/Special:EntityData/P735.json',\n",
       "   'title': 'Property:P735',\n",
       "   'id': 'P735',\n",
       "   'label_en': 'given name',\n",
       "   'description_en': \"first name or another given name of this person; values used with the property shouldn't link disambiguations nor family names.\",\n",
       "   'formatter_url': None,\n",
       "   'url': 'https://www.wikidata.org/wiki/Special:EntityData/Q19803500',\n",
       "   'value': 'D.'},\n",
       "  {'uri': 'https://www.wikidata.org/wiki/Special:EntityData/P21.json',\n",
       "   'title': 'Property:P21',\n",
       "   'id': 'P21',\n",
       "   'label_en': 'sex or gender',\n",
       "   'description_en': 'sex or gender identity: male (Q6581097), female (Q6581072), intersex (Q1097630), transgender female (Q1052281), transgender male (Q2449503). Animal: male organism (Q44148), female organism (Q43445). Groups of same gender use subclass of (P279)',\n",
       "   'formatter_url': None,\n",
       "   'url': 'https://www.wikidata.org/wiki/Special:EntityData/Q6581097',\n",
       "   'value': 'male'},\n",
       "  {'uri': 'https://www.wikidata.org/wiki/Special:EntityData/P19.json',\n",
       "   'title': 'Property:P19',\n",
       "   'id': 'P19',\n",
       "   'label_en': 'place of birth',\n",
       "   'description_en': 'most specific known (e.g. city instead of country, or hospital instead of city) birth location of a person, animal or fictional character',\n",
       "   'formatter_url': None,\n",
       "   'url': 'https://www.wikidata.org/wiki/Special:EntityData/Q31058',\n",
       "   'value': 'Burlington'},\n",
       "  {'uri': 'https://www.wikidata.org/wiki/Special:EntityData/P18.json',\n",
       "   'title': 'Property:P18',\n",
       "   'id': 'P18',\n",
       "   'label_en': 'image',\n",
       "   'description_en': 'image of relevant illustration of the subject; if available, use more specific properties (sample: coat of arms image, locator map, flag image, signature image, logo image, collage image); only images which exist on Wikimedia Commons are acceptable',\n",
       "   'formatter_url': 'https://commons.wikimedia.org/wiki/File:$1',\n",
       "   'url': 'https://commons.wikimedia.org/wiki/File:Mark badlands.jpg',\n",
       "   'value': 'Mark badlands.jpg'},\n",
       "  {'uri': 'https://www.wikidata.org/wiki/Special:EntityData/P106.json',\n",
       "   'title': 'Property:P106',\n",
       "   'id': 'P106',\n",
       "   'label_en': 'occupation',\n",
       "   'description_en': 'occupation of a person; see also \"field of work\" (Property:P101), \"position held\" (Property:P39)',\n",
       "   'formatter_url': None,\n",
       "   'url': 'https://www.wikidata.org/wiki/Special:EntityData/Q520549',\n",
       "   'value': 'geologist'},\n",
       "  {'uri': 'https://www.wikidata.org/wiki/Special:EntityData/P106.json',\n",
       "   'title': 'Property:P106',\n",
       "   'id': 'P106',\n",
       "   'label_en': 'occupation',\n",
       "   'description_en': 'occupation of a person; see also \"field of work\" (Property:P101), \"position held\" (Property:P39)',\n",
       "   'formatter_url': None,\n",
       "   'url': 'https://www.wikidata.org/wiki/Special:EntityData/Q12051314',\n",
       "   'value': 'seismologist'},\n",
       "  {'uri': 'https://www.wikidata.org/wiki/Special:EntityData/P734.json',\n",
       "   'title': 'Property:P734',\n",
       "   'id': 'P734',\n",
       "   'label_en': 'family name',\n",
       "   'description_en': 'part of full name of person',\n",
       "   'formatter_url': None,\n",
       "   'url': 'https://www.wikidata.org/wiki/Special:EntityData/Q27094683',\n",
       "   'value': 'Petersen'},\n",
       "  {'uri': 'https://www.wikidata.org/wiki/Special:EntityData/P496.json',\n",
       "   'title': 'Property:P496',\n",
       "   'id': 'P496',\n",
       "   'label_en': 'ORCID iD',\n",
       "   'description_en': 'identifier for a person',\n",
       "   'formatter_url': 'https://orcid.org/$1',\n",
       "   'url': 'https://orcid.org/0000-0001-8542-3990',\n",
       "   'value': '0000-0001-8542-3990'},\n",
       "  {'uri': 'https://www.wikidata.org/wiki/Special:EntityData/P1960.json',\n",
       "   'title': 'Property:P1960',\n",
       "   'id': 'P1960',\n",
       "   'label_en': 'Google Scholar author ID',\n",
       "   'description_en': 'identifier of a person, in the Google Scholar academic search service',\n",
       "   'formatter_url': 'https://scholar.google.com/citations?user=$1',\n",
       "   'url': 'https://scholar.google.com/citations?user=MFYshFUAAAAJ',\n",
       "   'value': 'MFYshFUAAAAJ'},\n",
       "  {'uri': 'https://www.wikidata.org/wiki/Special:EntityData/P69.json',\n",
       "   'title': 'Property:P69',\n",
       "   'id': 'P69',\n",
       "   'label_en': 'educated at',\n",
       "   'description_en': 'educational institution attended by subject',\n",
       "   'formatter_url': None,\n",
       "   'url': 'https://www.wikidata.org/wiki/Special:EntityData/Q49088',\n",
       "   'value': 'Columbia University'},\n",
       "  {'uri': 'https://www.wikidata.org/wiki/Special:EntityData/P69.json',\n",
       "   'title': 'Property:P69',\n",
       "   'id': 'P69',\n",
       "   'label_en': 'educated at',\n",
       "   'description_en': 'educational institution attended by subject',\n",
       "   'formatter_url': None,\n",
       "   'url': 'https://www.wikidata.org/wiki/Special:EntityData/Q332498',\n",
       "   'value': 'Brigham Young University'},\n",
       "  {'uri': 'https://www.wikidata.org/wiki/Special:EntityData/P108.json',\n",
       "   'title': 'Property:P108',\n",
       "   'id': 'P108',\n",
       "   'label_en': 'employer',\n",
       "   'description_en': 'person or organization for which the subject works or worked',\n",
       "   'formatter_url': None,\n",
       "   'url': 'https://www.wikidata.org/wiki/Special:EntityData/Q608427',\n",
       "   'value': 'United States Department of the Interior'}]}"
      ]
     },
     "metadata": {},
     "output_type": "display_data"
    },
    {
     "name": "stdout",
     "output_type": "stream",
     "text": [
      "CPU times: user 746 ms, sys: 57.5 ms, total: 804 ms\n",
      "Wall time: 42.8 s\n"
     ]
    }
   ],
   "source": [
    "%%time\n",
    "for person in people[20:22]:\n",
    "    wd_id = next((i[\"key\"] for i in person[\"identifiers\"] if i[\"type\"] == \"WikiData\"), None)\n",
    "    display(wd.wd_item(wd_id, include_aliases=True))"
   ]
  },
  {
   "cell_type": "markdown",
   "metadata": {},
   "source": [
    "What we are really interested in through this immediate exercise is an examination of the breadth of properties in WikiData on USGS people. We want to understand what we can exploit from those claims made about our people and get some indication of where those statements have come from. The WikiData class contains another function that will take a list of specific item IDs and return all of the properties with English labels and values for those IDs. We can use this to comprehensively run through every USGS-affiliated WikiData ID and get a set of distinct properties to examine further.\n",
    "\n",
    "To be kind to the WikiData API and deal with limitations in how large a SPARQL query we can make, we batch process and slow down our requests in sending all 2K+ IDs."
   ]
  },
  {
   "cell_type": "code",
   "execution_count": 8,
   "metadata": {},
   "outputs": [
    {
     "data": {
      "text/plain": [
       "['academic degree',\n",
       " 'sex or gender',\n",
       " 'country of citizenship',\n",
       " 'GND ID',\n",
       " 'Nationale Thesaurus voor Auteurs ID',\n",
       " 'Bibliothèque nationale de France ID',\n",
       " 'described at URL',\n",
       " 'doctoral advisor',\n",
       " 'University of Barcelona authority ID',\n",
       " 'nickname',\n",
       " 'NKCR AUT ID',\n",
       " 'affiliation',\n",
       " 'award received',\n",
       " 'CONOR ID',\n",
       " 'Loop ID',\n",
       " 'ZooBank author ID',\n",
       " 'NLA Trove ID',\n",
       " 'RERO ID',\n",
       " 'NORAF ID',\n",
       " 'occupation',\n",
       " 'Library of Congress authority ID',\n",
       " 'IPNI author ID',\n",
       " 'DBLP ID',\n",
       " 'on focus list of Wikimedia project',\n",
       " 'field of work',\n",
       " 'date of birth',\n",
       " 'Publons author ID',\n",
       " 'ResearchGate contributions ID',\n",
       " 'Dimensions author ID',\n",
       " 'official website',\n",
       " 'CiNii author ID (books)',\n",
       " 'work location',\n",
       " 'Academic Tree ID',\n",
       " 'ISNI',\n",
       " 'Harvard Index of Botanists ID',\n",
       " 'employer',\n",
       " 'Scopus Author ID',\n",
       " 'NUKAT ID',\n",
       " 'Microsoft Academic ID',\n",
       " 'honorific prefix',\n",
       " 'ORCID iD',\n",
       " 'different from',\n",
       " 'Mendeley person ID',\n",
       " 'given name',\n",
       " 'notable work',\n",
       " 'VIAF ID',\n",
       " 'educated at',\n",
       " 'BHL creator ID',\n",
       " 'residence',\n",
       " 'Freebase ID',\n",
       " 'place of birth',\n",
       " 'image',\n",
       " 'GitHub username',\n",
       " 'IdRef ID',\n",
       " 'position held',\n",
       " 'instance of',\n",
       " 'Google Scholar author ID',\n",
       " 'Songkick artist ID',\n",
       " 'Libraries Australia ID',\n",
       " 'Project Gutenberg author ID',\n",
       " 'openMLOL author ID',\n",
       " 'LinkedIn personal profile ID',\n",
       " 'Semantic Scholar author ID',\n",
       " 'ResearchGate profile ID',\n",
       " 'family name',\n",
       " 'languages spoken, written or signed',\n",
       " 'botanist author abbreviation',\n",
       " 'name in native language',\n",
       " 'National Library of Israel ID',\n",
       " 'MusicBrainz artist ID',\n",
       " 'Biblioteca Nacional de España ID',\n",
       " 'ResearcherID',\n",
       " 'honorific suffix',\n",
       " 'FAST ID',\n",
       " 'member of',\n",
       " 'WorldCat Identities ID']"
      ]
     },
     "metadata": {},
     "output_type": "display_data"
    },
    {
     "name": "stdout",
     "output_type": "stream",
     "text": [
      "CPU times: user 607 ms, sys: 118 ms, total: 725 ms\n",
      "Wall time: 56.2 s\n"
     ]
    }
   ],
   "source": [
    "%%time\n",
    "wd_ids = [next(i[\"key\"] for i in p[\"identifiers\"] if i[\"type\"] == \"WikiData\") for p in people]\n",
    "\n",
    "batch_size = 100\n",
    "all_props = list()\n",
    "\n",
    "for i in range(0, len(wd_ids), batch_size):\n",
    "    this_run = wd_ids[i:i+batch_size]\n",
    "    all_props.extend(wd.wd_item_properties(this_run, return_result=\"values\"))\n",
    "    time.sleep(0.2)\n",
    "    \n",
    "distinct_properties = list(set([p[\"property\"] for p in all_props]))\n",
    "display(distinct_properties)"
   ]
  },
  {
   "cell_type": "markdown",
   "metadata": {},
   "source": [
    "Now that we have our suite of distinct properties, we can start looking for interesting tidbits of information, figure out where things came from, and think about what we might be able to do with the stuff we can get back through the USGS person to WikiData linkage. There seems to be some pretty interesting stuff in the collection of properties. The following codeblock can be tweaked to look at specific properties of interest. It takes a property name and provides a clickable set of URLs that will take you to the WikiData identity with that property and to the corresponding ScienceBase Directory item. At this point, we are just visually exploring the information to see what's happening with the data."
   ]
  },
  {
   "cell_type": "code",
   "execution_count": 12,
   "metadata": {},
   "outputs": [
    {
     "name": "stdout",
     "output_type": "stream",
     "text": [
      "https://www.wikidata.org/wiki/Q58358553 https://www.sciencebase.gov/directory/person/9820\n",
      "https://www.wikidata.org/wiki/Q58358553 https://www.sciencebase.gov/directory/person/9820\n",
      "https://www.wikidata.org/wiki/Q58358553 https://www.sciencebase.gov/directory/person/9820\n",
      "https://www.wikidata.org/wiki/Q58358553 https://www.sciencebase.gov/directory/person/9820\n",
      "https://www.wikidata.org/wiki/Q58358553 https://www.sciencebase.gov/directory/person/9820\n",
      "https://www.wikidata.org/wiki/Q58358553 https://www.sciencebase.gov/directory/person/9820\n",
      "https://www.wikidata.org/wiki/Q21502710 https://www.sciencebase.gov/directory/person/1754\n",
      "https://www.wikidata.org/wiki/Q21502710 https://www.sciencebase.gov/directory/person/1754\n",
      "https://www.wikidata.org/wiki/Q21502710 https://www.sciencebase.gov/directory/person/1754\n",
      "https://www.wikidata.org/wiki/Q21502710 https://www.sciencebase.gov/directory/person/1754\n",
      "https://www.wikidata.org/wiki/Q21502710 https://www.sciencebase.gov/directory/person/1754\n",
      "https://www.wikidata.org/wiki/Q21502710 https://www.sciencebase.gov/directory/person/1754\n",
      "https://www.wikidata.org/wiki/Q59834574 https://www.sciencebase.gov/directory/person/1175\n",
      "https://www.wikidata.org/wiki/Q61969119 https://www.sciencebase.gov/directory/person/14482\n",
      "https://www.wikidata.org/wiki/Q21339166 https://www.sciencebase.gov/directory/person/11434\n",
      "https://www.wikidata.org/wiki/Q21339166 https://www.sciencebase.gov/directory/person/11434\n",
      "https://www.wikidata.org/wiki/Q21339166 https://www.sciencebase.gov/directory/person/11434\n",
      "https://www.wikidata.org/wiki/Q21339166 https://www.sciencebase.gov/directory/person/11434\n",
      "https://www.wikidata.org/wiki/Q21339166 https://www.sciencebase.gov/directory/person/11434\n",
      "https://www.wikidata.org/wiki/Q21339166 https://www.sciencebase.gov/directory/person/11434\n",
      "https://www.wikidata.org/wiki/Q21339166 https://www.sciencebase.gov/directory/person/11434\n",
      "https://www.wikidata.org/wiki/Q21339166 https://www.sciencebase.gov/directory/person/11434\n",
      "https://www.wikidata.org/wiki/Q58337622 https://www.sciencebase.gov/directory/person/9398\n",
      "https://www.wikidata.org/wiki/Q68630131 https://www.sciencebase.gov/directory/person/685\n"
     ]
    }
   ],
   "source": [
    "property_name = \"field of work\"\n",
    "for record in [i for i in all_props if i[\"property\"] == property_name]:\n",
    "    print(f\"https://www.wikidata.org/wiki/{record['item_id']}\", sb_person_link_by_wd_id(people, record['item_id']))"
   ]
  },
  {
   "cell_type": "markdown",
   "metadata": {},
   "source": [
    "# Observations\n",
    "* I was interested in the fact that \"date of birth\" showed up as a property on some records as that's often one of those \"personally identifiable information\" bits that we would never even have a property for in our government system. Most of these appear to be of lower than month/year precision, which is something that we can verify programmatically based on how WikiData handles date properties. An interesting case here that I glanced through is David M. Miller (https://www.wikidata.org/wiki/Q57729525, https://www.sciencebase.gov/directory/person/7005) who is now an emeritus scientist in USGS and who I worked with some time ago on a publication.\n",
    "* Another interesting case is Luke Iwanowicz (https://www.wikidata.org/wiki/Q42260508, https://www.sciencebase.gov/directory/person/4946). His USGS record indicates that he is an active research ecologist at the Leetown Science Center, but his WikiData record does not indicate that he is an employee of the USGS. A view of the item's WikiData history shows that it has come about through a series of actions from 2017-2020 by both bots and what appear to be individual person edits. When I ran the process to link USGS people with ORCIDs to WikiData identities, I looked at only a match on ORCID and full name and did not filter out anyone who was not affiliated with the USGS in their WikiData record.\n",
    "* Another interesting property I hadn't seen previously is \"different from.\" A view there shows a cool disambiguation made in WikiData between the USGS Janet Carter (a Bureau Approving Official; https://www.wikidata.org/wiki/Q57408499 https://www.sciencebase.gov/directory/person/1620) and a Janet Carter in New Zealand in a completely different profession. That's pretty cool! The different from disambiguation was made by a user, Daniel Mietchen, in June 2019 according to the history. That tracks to when Janet Carter from New Zeland was created, pointing to part of the power of the WikiData platform in helping to force disambiguation with items of similar name are added to the graph.\n",
    "* A really interesting property that holds a lot of promise for one of our use cases dealing with capacity assessment is \"field of work.\" I looked at records for Robert Stallard (https://www.wikidata.org/wiki/Q58358553 https://www.sciencebase.gov/directory/person/9820), who's a pretty famous ecologist who I believe is still based in Boulder. His WikiData record shows only his affiliation with the Smithsonian and provides field of work identifiers with references to his profile page there - https://stri.si.edu/scientist/robert-stallard. Sweet! We have another connection through to some other mineable asset. The values for field of work are relatively high level in terms of understanding specialties, but they are fully linked to associated depth within Wikipedia, which gives them a bit more weight and added context. In Robert's case, we see that he does work in reforestation among other things, which is a deeper level concept than we're going to see in anything USGS has classified out at this point.\n",
    "* Another interesting case is Neal Woodman (https://www.wikidata.org/wiki/Q21339166 https://www.sciencebase.gov/directory/person/11434) who is a zoologist with the Patuxent Wildlife Research Center. Neal's field of work properties include some pretty specific references to species and not just general sciences, which is another interesting dynamic in itself that I'm exploring in WikiData. He links to the family of shrews and similar mammals, [Soricidae](https://www.wikidata.org/wiki/Q41631), which is a fairly specific reference. (I'm also exploring the phenomenon that WikiData has over 570,000 references to ITIS TSN identifiers that are linked to many other identification systems that we're interested in for other work I'm doing on taxa information assembly.) A view of the history of Neal's WikiData record shows that field of work values were added by a [real person](https://www.wikidata.org/wiki/User:Uncommon_fritillary), Diane Shaw, at the Smithsonian's Biodiversity Heritage Library. Cool!"
   ]
  },
  {
   "cell_type": "code",
   "execution_count": null,
   "metadata": {},
   "outputs": [],
   "source": []
  }
 ],
 "metadata": {
  "kernelspec": {
   "display_name": "Python 3",
   "language": "python",
   "name": "python3"
  },
  "language_info": {
   "codemirror_mode": {
    "name": "ipython",
    "version": 3
   },
   "file_extension": ".py",
   "mimetype": "text/x-python",
   "name": "python",
   "nbconvert_exporter": "python",
   "pygments_lexer": "ipython3",
   "version": "3.8.3"
  }
 },
 "nbformat": 4,
 "nbformat_minor": 4
}
