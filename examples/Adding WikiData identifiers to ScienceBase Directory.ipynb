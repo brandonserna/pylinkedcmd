{
 "cells": [
  {
   "cell_type": "markdown",
   "metadata": {},
   "source": [
    "The [ScienceBase Directory](https://www.sciencebase.gov/directory) is a system we set up a long time ago as part of the overall ScienceBase work to house a directory of people and organizations important in documenting data for items in ScienceBase. It was our own 'invention' in USGS, and we should arguably replace it at some point with a better tool. It is part of USGS Corporate Master Data and provides a central point of cleaning up some overall messiness in how we keep track of people who work for USGS over time and people from other organizations who we partner with in our work. It is also how we try to keep up with the even messier issue of changing organizational units in our own institution, in neighboring instititions within the Department of the Interior, and with other partner organizations. There are background synchronization processes that bring together and make some sense of basic personnel information from our corporate authentication mechanism as well as an internal business process management system that has various kinds of codes and identifiers used in these processes. There have been numerous attempts to make sense and best use of all of this internal information over time, and the pylinkedcmd is just one more bit of that work.\n",
    "\n",
    "This notebook explores a set of functionality added to pylinkedcmd to help establish linkages from ScienceBase Directory person records to corresponding WikiData entities based on ORCID, which we can then exploit for further linked data coming from other sources developed through WikiData pathways. The motivation for this is an exercise in corporate capacity assessment we are just about to initiate where we wanted to build an algorithm to automatically assemble as much of an individual scientist's research record as possible to serve as context for survey responses. We know, anectodally, that no one accessible source of cataloged information has everything that any of us have contributed to. Official publication records, both journal articles and USGS reports, are mostly well cared for in the USGS Publications Warehouse, but they don't necessarily have everything for everyone and certainly not extending beyond USGS employment. ScienceBase and the USGS Science Data Catalog will have a lot of official data release items, but there will again be missing pieces. We haven't yet made solid connections to tap software control sources like GitHub, and our internal software control systems are less accessible to bot actions.\n",
    "\n",
    "Exploring instances of human in WikiData with ORCIDs and indicating USGS employment was illuminating. There are lots of us with records in WikiData that have come together from a variety of databasing mechanisms that are constantly operating against WikiData. So, establishing a reasonably assured linkage to WikiData identities from ScienceBase Directory identities gives us a basis for exploring further exploitation of that resource pool. This notebook was used to run an initial baseline process and serves as an example for how some of pylinkedcmd can be used."
   ]
  },
  {
   "cell_type": "code",
   "execution_count": 1,
   "metadata": {},
   "outputs": [],
   "source": [
    "import pylinkedcmd\n",
    "from IPython.display import display\n",
    "import random\n",
    "\n",
    "# We put all the ScienceBase-specific stuff into its own class for clarity\n",
    "lcmd_sb = pylinkedcmd.pylinkedcmd.Sciencebase()"
   ]
  },
  {
   "cell_type": "markdown",
   "metadata": {},
   "source": [
    "The ScienceBase Directory information model, for whatever reason, has both an identifiers object that can contain as many classified identifiers as someone includes in a record as well as a separate orcId property just for orcId identifiers. Part of what we do in this workflow is \"fix\" that issue, at least in terms of copying the ORCID values to the identifiers list. Here, we run a function we put in to pull together every ScienceBase Directory person record with an orcId value so that we can run through them and do other stuff. This takes care of query limits from the API to grab everything in one array."
   ]
  },
  {
   "cell_type": "code",
   "execution_count": 2,
   "metadata": {},
   "outputs": [
    {
     "name": "stdout",
     "output_type": "stream",
     "text": [
      "CPU times: user 233 ms, sys: 59.6 ms, total: 292 ms\n",
      "Wall time: 9.49 s\n"
     ]
    }
   ],
   "source": [
    "%%time\n",
    "all_orcids = lcmd_sb.get_all_orcid()"
   ]
  },
  {
   "cell_type": "code",
   "execution_count": 3,
   "metadata": {},
   "outputs": [
    {
     "name": "stdout",
     "output_type": "stream",
     "text": [
      "3168\n"
     ]
    },
    {
     "data": {
      "text/plain": [
       "{'api': 'https://www.sciencebase.gov/directory/person/4700',\n",
       " 'displayName': 'Daniel J Hoover',\n",
       " 'email': 'dhoover@usgs.gov',\n",
       " 'orcid': '0000-0002-2927-6196'}"
      ]
     },
     "metadata": {},
     "output_type": "display_data"
    }
   ],
   "source": [
    "print(len(all_orcids))\n",
    "display(all_orcids[random.randrange(len(all_orcids))])"
   ]
  },
  {
   "cell_type": "markdown",
   "metadata": {},
   "source": [
    "We built our function to update the ScienceBase Directory person identifiers with both structured ORCID values and WikiData identifiers where available to be run from email address as the input variable as it seemed most reasonable as a starting point that could be used more broadly. The update function can run on a single email address but will also take a list. Here, we put together the entire list of emails we can run through and show a slice."
   ]
  },
  {
   "cell_type": "code",
   "execution_count": 4,
   "metadata": {},
   "outputs": [
    {
     "data": {
      "text/plain": [
       "['hbunderw@usgs.gov',\n",
       " 'chuber@usgs.gov',\n",
       " 'dawson@usgs.gov',\n",
       " 'sboyer@usgs.gov',\n",
       " 'bsleeter@usgs.gov',\n",
       " 'dholtschlag@usgs.gov',\n",
       " 'gmoret@usgs.gov',\n",
       " 'sminor@usgs.gov',\n",
       " 'rloehman@usgs.gov',\n",
       " 'barroww@usgs.gov']"
      ]
     },
     "execution_count": 4,
     "metadata": {},
     "output_type": "execute_result"
    }
   ],
   "source": [
    "all_emails = [i[\"email\"] for i in all_orcids]\n",
    "all_emails[:10]"
   ]
  },
  {
   "cell_type": "markdown",
   "metadata": {},
   "source": [
    "The main function at work in this workflow will actually put everything together for a list of emails and execute the updates, prompting for ScienceBase credentials with permissions to update the directory (not very many users are authorized to do this). However, one part of that workflow will build the new person document with the lookup process to WikiData and is completely open and public for anyone to run. We show that here for a random person document, highlighting the new identifiers structure.\n",
    "\n",
    "Actual linked open data practitioners will note that this is a pretty imperfect thing that we are setting up. We used an expedient of simply declaring, for our purposes, that we know what \"ORCID\" and \"WikiData\" type identifiers actually mean and understand how they can be used. We are mostly just using this for the purpose of establishing a connection to the \"global knowledge graph\" that we can then use to do other useful stuff."
   ]
  },
  {
   "cell_type": "code",
   "execution_count": 5,
   "metadata": {},
   "outputs": [
    {
     "data": {
      "text/plain": [
       "{'links': [{'rel': 'self',\n",
       "   'url': 'https://www.sciencebase.gov/directory/person/1033'}],\n",
       " 'link': {'rel': 'self',\n",
       "  'url': 'https://www.sciencebase.gov/directory/person/1033',\n",
       "  'href': 'https://www.sciencebase.gov/directory/person/1033'},\n",
       " '_classSimpleName': 'UsgsPerson',\n",
       " 'id': 1033,\n",
       " 'name': 'Lizabeth Bowen/BRD/USGS/DOI',\n",
       " 'displayName': 'Lizabeth Bowen',\n",
       " 'displayText': 'Lizabeth Bowen',\n",
       " 'email': 'lbowen@usgs.gov',\n",
       " 'active': True,\n",
       " 'privateFlag': False,\n",
       " 'primaryLocation': {'id': 1706,\n",
       "  'name': 'Lizabeth Bowen/BRD/USGS/DOI - Primary Location',\n",
       "  'buildingCode': 'WDJ',\n",
       "  'officePhone': '530-752-5365',\n",
       "  'faxPhone': '530-752-5365',\n",
       "  'mailAddress': {'line1': '1 Shields Ave.',\n",
       "   'line2': 'UC Davis',\n",
       "   'city': 'Davis',\n",
       "   'state': 'CA',\n",
       "   'zip': '95616-5224',\n",
       "   'country': 'US'},\n",
       "  'streetAddress': {'line1': '1 Shields Avenue',\n",
       "   'city': 'Davis',\n",
       "   'state': 'CA',\n",
       "   'zip': '95616',\n",
       "   'country': 'US'}},\n",
       " 'partyLocations': [{'link': {'rel': 'self',\n",
       "    'href': 'https://www.sciencebase.gov/directory/location/1706'},\n",
       "   'locationId': 1706,\n",
       "   'displayName': 'Lizabeth Bowen/BRD/USGS/DOI - Primary Location',\n",
       "   'primary': True,\n",
       "   'sort': 1}],\n",
       " 'firstName': 'Lizabeth',\n",
       " 'lastName': 'Bowen',\n",
       " 'jobTitle': 'Ecologist',\n",
       " 'orcId': '0000-0001-9115-4336',\n",
       " 'username': 'lbowen@usgs.gov',\n",
       " 'organizationId': 17410,\n",
       " 'organizationDisplayText': 'Western Ecological Research Center',\n",
       " 'organization': {'link': {'rel': 'self',\n",
       "   'href': 'https://www.sciencebase.gov/directory/organization/17410'},\n",
       "  '_classSimpleName': 'UsgsOrganization',\n",
       "  'id': 17410,\n",
       "  'displayText': 'Western Ecological Research Center'},\n",
       " 'protectedFromLdap': False,\n",
       " 'extensions': {'usgsPerson': {'employeeType': 'Employee'}},\n",
       " 'identifiers': [{'type': 'ORCID', 'key': '0000-0001-9115-4336'}]}"
      ]
     },
     "metadata": {},
     "output_type": "display_data"
    },
    {
     "data": {
      "text/plain": [
       "[{'type': 'ORCID', 'key': '0000-0001-9115-4336'}]"
      ]
     },
     "metadata": {},
     "output_type": "display_data"
    }
   ],
   "source": [
    "random_doc = lcmd_sb.get_identified_sb_person(all_emails[random.randrange(len(all_emails))])\n",
    "display(random_doc[0])\n",
    "display(random_doc[0][\"identifiers\"])"
   ]
  },
  {
   "cell_type": "markdown",
   "metadata": {},
   "source": [
    "We can now run actual updates to add as many WikiData identifiers as we can reasonably establish to ScienceBase Person records so that we can exploit this linkage into the global knowledge graph (at least the WikiData version) further in downstream work. Note that this requires authentication to ScienceBase with sufficient permissions to modify the Directory."
   ]
  },
  {
   "cell_type": "code",
   "execution_count": 6,
   "metadata": {},
   "outputs": [
    {
     "name": "stdout",
     "output_type": "stream",
     "text": [
      "User Name: sbristol@usgs.gov\n",
      "········\n",
      "CPU times: user 1.4 s, sys: 164 ms, total: 1.56 s\n",
      "Wall time: 47.3 s\n"
     ]
    }
   ],
   "source": [
    "%%time\n",
    "update_results = lcmd_sb.update_sb_person_identifiers(all_emails)"
   ]
  },
  {
   "cell_type": "code",
   "execution_count": 7,
   "metadata": {},
   "outputs": [
    {
     "name": "stdout",
     "output_type": "stream",
     "text": [
      "Updated Documents 20\n",
      "No Update Available 0\n",
      "Number of WikiData links made 15\n"
     ]
    }
   ],
   "source": [
    "print(\"Updated Documents\", len(update_results[\"updatedPersonRecords\"]))\n",
    "print(\"No Update Available\", len(update_results[\"ignoredPersonRecords\"]))\n",
    "print(\"Number of WikiData links made\", len([i for i in update_results[\"updatedPersonRecords\"] if next((ident for ident in i[\"identifiers\"] if ident[\"type\"] == \"WikiData\"), None) is not None]))"
   ]
  },
  {
   "cell_type": "code",
   "execution_count": null,
   "metadata": {},
   "outputs": [],
   "source": []
  }
 ],
 "metadata": {
  "kernelspec": {
   "display_name": "Python 3",
   "language": "python",
   "name": "python3"
  },
  "language_info": {
   "codemirror_mode": {
    "name": "ipython",
    "version": 3
   },
   "file_extension": ".py",
   "mimetype": "text/x-python",
   "name": "python",
   "nbconvert_exporter": "python",
   "pygments_lexer": "ipython3",
   "version": "3.8.3"
  }
 },
 "nbformat": 4,
 "nbformat_minor": 4
}
